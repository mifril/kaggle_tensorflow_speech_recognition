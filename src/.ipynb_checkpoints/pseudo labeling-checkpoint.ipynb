{
 "cells": [
  {
   "cell_type": "code",
   "execution_count": 4,
   "metadata": {},
   "outputs": [],
   "source": [
    "import pandas as pd\n",
    "import numpy as np\n",
    "import matplotlib.pyplot as plt\n",
    "\n",
    "%matplotlib inline\n",
    "\n",
    "LABELS = ['yes', 'no', 'up', 'down', 'left', 'right', 'on', 'off', 'stop', 'go', 'silence', 'unknown']\n",
    "ID2NAME = {i: name for i, name in enumerate(LABELS)}\n",
    "NAME2ID = {name: i for i, name in ID2NAME.items()}\n"
   ]
  },
  {
   "cell_type": "code",
   "execution_count": 37,
   "metadata": {},
   "outputs": [],
   "source": [
    "df = pd.read_csv('../output/preds/subm_ensemble_weights_raw_8.csv', index_col='fname')\n",
    "probs = df.values\n",
    "fnames = df.index\n",
    "\n",
    "labels = np.argmax(probs, axis=1)\n",
    "labels = np.array([ID2NAME[i] for i in labels])\n",
    "max_probs = np.max(probs, axis=1)"
   ]
  },
  {
   "cell_type": "code",
   "execution_count": 43,
   "metadata": {},
   "outputs": [
    {
     "name": "stdout",
     "output_type": "stream",
     "text": [
      "158538\n",
      "115576\n",
      "42962\n"
     ]
    }
   ],
   "source": [
    "print(len(fnames))\n",
    "print(len(fnames[max_probs > 0.9]))\n",
    "print(len(fnames[max_probs <= 0.9]))"
   ]
  },
  {
   "cell_type": "code",
   "execution_count": 46,
   "metadata": {},
   "outputs": [],
   "source": [
    "pseudo_label = pd.DataFrame({'fname': fnames[max_probs > 0.9], 'label': labels[max_probs > 0.9]})\n",
    "no_label = pd.DataFrame({'fname': fnames[max_probs <= 0.9]})\n",
    "pseudo_label.to_csv('../input/pseudo_label.csv', index=False)\n",
    "no_label.to_csv('../input/no_label.csv', index=False)"
   ]
  },
  {
   "cell_type": "code",
   "execution_count": null,
   "metadata": {},
   "outputs": [],
   "source": []
  }
 ],
 "metadata": {
  "kernelspec": {
   "display_name": "Python [conda env:tf]",
   "language": "python",
   "name": "conda-env-tf-py"
  },
  "language_info": {
   "codemirror_mode": {
    "name": "ipython",
    "version": 3
   },
   "file_extension": ".py",
   "mimetype": "text/x-python",
   "name": "python",
   "nbconvert_exporter": "python",
   "pygments_lexer": "ipython3",
   "version": "3.5.3"
  }
 },
 "nbformat": 4,
 "nbformat_minor": 2
}
