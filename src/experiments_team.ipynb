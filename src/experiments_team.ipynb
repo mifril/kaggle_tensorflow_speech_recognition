{
 "cells": [
  {
   "cell_type": "code",
   "execution_count": null,
   "metadata": {},
   "outputs": [],
   "source": [
    "import pickle\n",
    "import gzip\n",
    "import numpy as np\n",
    "\n",
    "INPUT_DIR = '../input/'\n",
    "OUTPUT_DIR = '../output/'\n",
    "MAIN_DIR = 'C:/data/tf_speech/'\n",
    "TRAIN_DIR = MAIN_DIR + 'train/'\n",
    "TRAIN_MODIFIED_DIR = MAIN_DIR + 'train_modified/'\n",
    "TRAIN_AUDIO_DIR = TRAIN_DIR + 'audio/'\n",
    "BG_DIR = TRAIN_DIR + 'audio/_background_noise_/'\n",
    "TEST_DIR = MAIN_DIR + 'test/audio/'\n",
    "PREDS_DIR = '../output/preds/'\n",
    "KFOLD_FILENAME = 'kfold_cache_4.pklz'\n",
    "\n",
    "folds = pickle.load(gzip.open(TRAIN_MODIFIED_DIR + KFOLD_FILENAME, 'rb'))\n",
    "for f in folds:\n",
    "    print (len(f[0]), len(f[1]))\n"
   ]
  },
  {
   "cell_type": "code",
   "execution_count": null,
   "metadata": {},
   "outputs": [],
   "source": [
    "folds[0][0][:10]"
   ]
  },
  {
   "cell_type": "code",
   "execution_count": null,
   "metadata": {},
   "outputs": [],
   "source": [
    "import os\n",
    "import glob\n",
    "from utilities import *\n",
    "from tqdm import tqdm, tqdm_notebook\n",
    "\n",
    "def load_fold(fold):\n",
    "    train_files = [f.split('\\\\')[-2] + f.split('\\\\')[-1] for f in fold[0]]\n",
    "    val_files = [f.split('\\\\')[-2] + f.split('\\\\')[-1] for f in fold[1]]\n",
    "    \n",
    "    all_files = glob.glob(os.path.join(TRAIN_MODIFIED_AUDIO_DIR, '*/*wav'))\n",
    "\n",
    "    train, val = [], []\n",
    "    for fname in tqdm(all_files):\n",
    "        splits = fname.split('\\\\')\n",
    "        label, uid = splits[-2], splits[-1].split('_')[0]\n",
    "        if label == '_background_noise_':\n",
    "            label = 'silence'\n",
    "        if label not in LABELS:\n",
    "            label = 'unknown'\n",
    "\n",
    "        label_id = NAME2ID[label]\n",
    "\n",
    "        sample = (label_id, uid, fname)\n",
    "        sample_id = splits[-2] + splits[-1]\n",
    "        if sample_id in val_files:\n",
    "            val.append(sample)\n",
    "        elif sample_id in train_files:\n",
    "            train.append(sample)\n",
    "    print('There are {} train and {} val samples'.format(len(train), len(val)))\n",
    "\n",
    "    return train, val\n",
    "\n",
    "trainset, valset = load_fold(folds[0])\n",
    "trainset, valset = load_fold(folds[1])\n",
    "trainset, valset = load_fold(folds[2])\n",
    "trainset, valset = load_fold(folds[3])"
   ]
  },
  {
   "cell_type": "code",
   "execution_count": null,
   "metadata": {},
   "outputs": [],
   "source": [
    "trainset, valset = load_fold(folds[0])"
   ]
  },
  {
   "cell_type": "code",
   "execution_count": null,
   "metadata": {},
   "outputs": [],
   "source": []
  },
  {
   "cell_type": "code",
   "execution_count": null,
   "metadata": {},
   "outputs": [],
   "source": [
    "files = ['../output/preds/r50_f/fold_0/train.csv',\n",
    "        '../output/preds/r50_f/fold_1/train.csv',\n",
    "         '../output/preds/r50_f/fold_2/train.csv',\n",
    "         '../output/preds/r50_f/fold_3/train.csv',\n",
    "        ]\n",
    "\n",
    "trainset0, valset0 = load_fold(folds[0])\n",
    "trainset1, valset1 = load_fold(folds[1])\n",
    "trainset2, valset2 = load_fold(folds[2])\n",
    "trainset3, valset3 = load_fold(folds[3])\n",
    "\n",
    "labels = []\n",
    "for valset in [valset0, valset1, valset2, valset3]:\n",
    "    labels.append([v[0] for v in valset])\n",
    "    \n",
    "    "
   ]
  },
  {
   "cell_type": "code",
   "execution_count": 10,
   "metadata": {},
   "outputs": [],
   "source": [
    "labels = [item for sublist in labels for item in sublist]"
   ]
  },
  {
   "cell_type": "code",
   "execution_count": 11,
   "metadata": {},
   "outputs": [
    {
     "data": {
      "text/plain": [
       "72221"
      ]
     },
     "execution_count": 11,
     "metadata": {},
     "output_type": "execute_result"
    }
   ],
   "source": [
    "len(labels)"
   ]
  },
  {
   "cell_type": "code",
   "execution_count": 21,
   "metadata": {},
   "outputs": [],
   "source": [
    "preds = []\n",
    "for f in files:\n",
    "    preds.append(pd.read_csv(f, index_col='fname').values)\n"
   ]
  },
  {
   "cell_type": "code",
   "execution_count": 22,
   "metadata": {},
   "outputs": [],
   "source": [
    "preds = [item for sublist in preds for item in sublist]"
   ]
  },
  {
   "cell_type": "code",
   "execution_count": 23,
   "metadata": {},
   "outputs": [],
   "source": [
    "preds = np.array(preds)"
   ]
  },
  {
   "cell_type": "code",
   "execution_count": 24,
   "metadata": {},
   "outputs": [
    {
     "data": {
      "text/plain": [
       "(72221, 12)"
      ]
     },
     "execution_count": 24,
     "metadata": {},
     "output_type": "execute_result"
    }
   ],
   "source": [
    "preds.shape"
   ]
  },
  {
   "cell_type": "code",
   "execution_count": 25,
   "metadata": {},
   "outputs": [
    {
     "data": {
      "text/plain": [
       "array([[5.45341440e-07, 1.12733570e-02, 5.68119200e-09, ...,\n",
       "        5.33063660e-04, 1.10157160e-06, 8.19366130e-04],\n",
       "       [3.07502160e-05, 4.20786740e-02, 1.83860070e-07, ...,\n",
       "        1.01446700e-02, 4.59887670e-05, 4.46214970e-02],\n",
       "       [1.19450780e-04, 1.40774030e-02, 1.34401860e-03, ...,\n",
       "        2.29340960e-02, 5.63298500e-03, 4.74986100e-01],\n",
       "       ...,\n",
       "       [2.74742580e-04, 8.54635440e-05, 8.02750400e-06, ...,\n",
       "        6.07135100e-04, 9.98027400e-01, 5.09377200e-04],\n",
       "       [1.49946390e-05, 3.99721700e-05, 1.28649670e-05, ...,\n",
       "        3.90805070e-04, 9.98484700e-01, 8.63943800e-04],\n",
       "       [4.91329900e-04, 1.03470775e-05, 3.34988200e-06, ...,\n",
       "        5.97465260e-04, 5.93591750e-01, 3.91461520e-01]])"
      ]
     },
     "execution_count": 25,
     "metadata": {},
     "output_type": "execute_result"
    }
   ],
   "source": [
    "preds"
   ]
  },
  {
   "cell_type": "code",
   "execution_count": 26,
   "metadata": {},
   "outputs": [
    {
     "data": {
      "text/plain": [
       "(72221,)"
      ]
     },
     "execution_count": 26,
     "metadata": {},
     "output_type": "execute_result"
    }
   ],
   "source": [
    "pred_labels = np.argmax(preds, axis=1)\n",
    "pred_labels.shape"
   ]
  },
  {
   "cell_type": "code",
   "execution_count": 30,
   "metadata": {},
   "outputs": [
    {
     "name": "stdout",
     "output_type": "stream",
     "text": [
      "yes, total: 2350, accuracy: 0.9829787234042553\n",
      "no, total: 2347, accuracy: 0.9190455901150405\n",
      "up, total: 2323, accuracy: 0.9130434782608695\n",
      "down, total: 2329, accuracy: 0.8634607127522542\n",
      "left, total: 2315, accuracy: 0.9520518358531318\n",
      "right, total: 2320, accuracy: 0.8939655172413793\n",
      "on, total: 2324, accuracy: 0.898881239242685\n",
      "off, total: 2321, accuracy: 0.950021542438604\n",
      "stop, total: 2347, accuracy: 0.9203238176395399\n",
      "go, total: 2333, accuracy: 0.911701671667381\n",
      "silence, total: 8347, accuracy: 0.9595064094884389\n",
      "unknown, total: 40565, accuracy: 0.7977320350055467\n"
     ]
    }
   ],
   "source": [
    "from sklearn.metrics import log_loss, accuracy_score, confusion_matrix\n",
    "\n",
    "conf = confusion_matrix(labels, pred_labels)\n",
    "for l in LABELS:\n",
    "    total = sum(conf[NAME2ID[l]])\n",
    "    acc = 1.0 * conf[NAME2ID[l], NAME2ID[l]] / total\n",
    "    print('{}, total: {}, accuracy: {}'.format(l, total,  acc))"
   ]
  },
  {
   "cell_type": "code",
   "execution_count": null,
   "metadata": {},
   "outputs": [],
   "source": [
    "yes total: 2350 accuracy: 0.9829787234042553\n",
    "no total: 2347 accuracy: 0.9190455901150405\n",
    "up total: 2323 accuracy: 0.9130434782608695\n",
    "down total: 2329 accuracy: 0.8634607127522542\n",
    "left total: 2315 accuracy: 0.9520518358531318"
   ]
  },
  {
   "cell_type": "code",
   "execution_count": null,
   "metadata": {},
   "outputs": [],
   "source": []
  },
  {
   "cell_type": "markdown",
   "metadata": {},
   "source": [
    "### diff"
   ]
  },
  {
   "cell_type": "code",
   "execution_count": 2,
   "metadata": {},
   "outputs": [
    {
     "name": "stderr",
     "output_type": "stream",
     "text": [
      "C:\\Users\\MAX\\Anaconda2\\envs\\tf\\lib\\site-packages\\h5py\\__init__.py:34: FutureWarning: Conversion of the second argument of issubdtype from `float` to `np.floating` is deprecated. In future, it will be treated as `np.float64 == np.dtype(float).type`.\n",
      "  from ._conv import register_converters as _register_converters\n",
      "Using TensorFlow backend.\n"
     ]
    },
    {
     "name": "stdout",
     "output_type": "stream",
     "text": [
      "16146\n",
      "10432\n",
      "16266\n"
     ]
    }
   ],
   "source": [
    "import pandas as pd\n",
    "from utilities import *\n",
    "# diff -y --suppress-common-lines a b | grep '^' | wc -l\n",
    "def diff_preds(f1, f2):\n",
    "    p1 = pd.read_csv(f1).label.values\n",
    "    p2 = pd.read_csv(f2).label.values\n",
    "    \n",
    "#     for i in range(len(p1)):\n",
    "#         if p1[i] != p2[i]:\n",
    "#             print (p1[i], p2[i])\n",
    "    return sum(p1 != p2)\n",
    "\n",
    "def diff_preds2(f1, f2):\n",
    "    p1 = pd.read_csv(f1, index_col='fname').values\n",
    "    p1 = np.argmax(p1, axis=1)\n",
    "    p2 = pd.read_csv(f2).label.values\n",
    "    p2 = [NAME2ID[name] for name in p2]\n",
    "    \n",
    "#     for i in range(len(p1)):\n",
    "#         if p1[i] != p2[i]:\n",
    "#             print (p1[i], p2[i])\n",
    "    return sum(p1 != p2)\n",
    "\n",
    "print(diff_preds2('../output/preds/r50_f.csv', '../output/subm_majorty.csv'))\n",
    "print(diff_preds('../output/resnet50_224.csv', '../output/subm_majorty.csv'))\n",
    "print(diff_preds2('../output/preds/r50_f.csv', '../output/resnet50_224.csv', ))"
   ]
  },
  {
   "cell_type": "code",
   "execution_count": 3,
   "metadata": {},
   "outputs": [
    {
     "name": "stdout",
     "output_type": "stream",
     "text": [
      "16653\n",
      "16653\n"
     ]
    }
   ],
   "source": [
    "print(diff_preds('../output/r50_199_f.csv', '../output/subm_majorty.csv'))\n",
    "print(diff_preds('../output/r50_199_f.csv', '../output/subm_majorty.csv'))"
   ]
  },
  {
   "cell_type": "code",
   "execution_count": 4,
   "metadata": {},
   "outputs": [
    {
     "name": "stdout",
     "output_type": "stream",
     "text": [
      "15140\n",
      "9307\n",
      "14555\n"
     ]
    }
   ],
   "source": [
    "print(diff_preds2('../output/preds/r50_199_f.csv', '../output/subm_majorty.csv'))\n",
    "print(diff_preds('../output/resnet50_fixed.csv', '../output/subm_majorty.csv'))\n",
    "print(diff_preds2('../output/preds/r50_199_f.csv', '../output/resnet50_fixed.csv'))"
   ]
  },
  {
   "cell_type": "code",
   "execution_count": 12,
   "metadata": {},
   "outputs": [
    {
     "name": "stdout",
     "output_type": "stream",
     "text": [
      "17688\n",
      "9458\n",
      "17625\n"
     ]
    }
   ],
   "source": [
    "print(diff_preds('../output/inc_139.csv', '../output/subm_majorty.csv'))\n",
    "print(diff_preds('../output/incres_140.csv', '../output/subm_majorty.csv'))\n",
    "print(diff_preds('../output/inc_139.csv', '../output/incres_140.csv'))"
   ]
  },
  {
   "cell_type": "code",
   "execution_count": 13,
   "metadata": {},
   "outputs": [
    {
     "name": "stdout",
     "output_type": "stream",
     "text": [
      "20459\n",
      "9565\n",
      "19008\n"
     ]
    }
   ],
   "source": [
    "print(diff_preds('../output/xcep.csv', '../output/subm_majorty.csv'))\n",
    "print(diff_preds('../output/xception.csv', '../output/subm_majorty.csv'))\n",
    "print(diff_preds('../output/xcep.csv', '../output/xception.csv'))"
   ]
  },
  {
   "cell_type": "code",
   "execution_count": null,
   "metadata": {},
   "outputs": [],
   "source": [
    "p = pd.read_csv('../output/preds/r50_199_f.csv', index_col='fname').values\n"
   ]
  },
  {
   "cell_type": "code",
   "execution_count": 25,
   "metadata": {},
   "outputs": [
    {
     "name": "stdout",
     "output_type": "stream",
     "text": [
      "15140\n",
      "15229\n"
     ]
    }
   ],
   "source": [
    "import numpy as np\n",
    "from utilities import *\n",
    "\n",
    "p = pd.read_csv('../output/preds/r50_199_f.csv', index_col='fname').values\n",
    "best = pd.read_csv('../output/subm_majorty.csv').label.values\n",
    "best = [NAME2ID[name] for name in best]\n",
    "\n",
    "c = np.argmax(p, axis=1)\n",
    "print(sum(c != best))\n",
    "\n",
    "for l in range(len(LABELS) - 1):\n",
    "    cond = np.logical_and(c == 11, p[:,l] > 0.4)\n",
    "    p[np.where(cond)[0], 11] = 0.0\n",
    "c = np.argmax(p, axis=1)\n",
    "\n",
    "print(sum(c != best))"
   ]
  },
  {
   "cell_type": "code",
   "execution_count": 21,
   "metadata": {},
   "outputs": [
    {
     "name": "stdout",
     "output_type": "stream",
     "text": [
      "[ 1 11 11 ...  8 11 11]\n"
     ]
    }
   ],
   "source": [
    "print(c)"
   ]
  },
  {
   "cell_type": "code",
   "execution_count": 30,
   "metadata": {},
   "outputs": [],
   "source": [
    "p = pd.read_csv('../output/preds/r50_199_f.csv', index_col='fname').values\n",
    "c = pd.read_csv('../output/r50_199_f.csv').label.values\n",
    "c = [NAME2ID[name] for name in c]"
   ]
  },
  {
   "cell_type": "code",
   "execution_count": 31,
   "metadata": {},
   "outputs": [
    {
     "data": {
      "text/plain": [
       "array([ 1, 11, 11, ...,  8, 11, 11], dtype=int64)"
      ]
     },
     "execution_count": 31,
     "metadata": {},
     "output_type": "execute_result"
    }
   ],
   "source": []
  },
  {
   "cell_type": "code",
   "execution_count": 33,
   "metadata": {},
   "outputs": [
    {
     "name": "stdout",
     "output_type": "stream",
     "text": [
      "6933\n"
     ]
    }
   ],
   "source": [
    "print(sum(c != np.argmax(p, axis=1)))"
   ]
  },
  {
   "cell_type": "markdown",
   "metadata": {},
   "source": [
    "### new partition"
   ]
  },
  {
   "cell_type": "code",
   "execution_count": 16,
   "metadata": {},
   "outputs": [
    {
     "name": "stdout",
     "output_type": "stream",
     "text": [
      "There are 57923 train and 6798 val samples\n"
     ]
    }
   ],
   "source": [
    "from utilities import *\n",
    "\n",
    "all_files = glob.glob(os.path.join(TRAIN_AUDIO_DIR, '*/*wav'))\n",
    "\n",
    "with open(os.path.join(TRAIN_DIR, 'validation_list.txt'), 'r') as fin:\n",
    "    validation_files = fin.readlines()\n",
    "valset = set()\n",
    "for fname in validation_files:\n",
    "    splits = fname.split('/')\n",
    "    valset.add(splits[-1].split('_')[0].rstrip())\n",
    "train, val = [], []\n",
    "noise = [(NAME2ID['silence'], '', '')]\n",
    "for fname in all_files:\n",
    "    splits = fname.split('\\\\')\n",
    "    label, uid = splits[-2], splits[-1].split('_')[0]\n",
    "    if label == '_background_noise_':\n",
    "        label = 'silence'\n",
    "\n",
    "    sample = (label, uid, fname)\n",
    "    if uid in valset:\n",
    "        val.append(sample)\n",
    "    elif label == 'silence':\n",
    "        noise.append(sample)\n",
    "    else:\n",
    "        train.append(sample)\n",
    "\n",
    "print('There are {} train and {} val samples'.format(len(train), len(val)))\n"
   ]
  },
  {
   "cell_type": "code",
   "execution_count": 23,
   "metadata": {},
   "outputs": [
    {
     "name": "stdout",
     "output_type": "stream",
     "text": [
      "four:\t2092,\t0.036116913833882915\n",
      "stop:\t2134,\t0.03684201439842549\n",
      "yes:\t2116,\t0.03653125701362153\n",
      "dog:\t1576,\t0.027208535469502616\n",
      "right:\t2111,\t0.036444935517842655\n",
      "left:\t2106,\t0.03635861402206377\n",
      "bed:\t1516,\t0.02617267752015607\n",
      "five:\t2115,\t0.03651399271446576\n",
      "three:\t2108,\t0.036393142620375324\n",
      "bird:\t1569,\t0.027087685375412184\n",
      "wow:\t1579,\t0.027260328366969944\n",
      "on:\t2110,\t0.036427671218686876\n",
      "happy:\t1553,\t0.02681145658891977\n",
      "no:\t2105,\t0.036341349722908\n",
      "six:\t2107,\t0.03637587832121955\n",
      "nine:\t2134,\t0.03684201439842549\n",
      "up:\t2115,\t0.03651399271446576\n",
      "two:\t2137,\t0.036893807295892825\n",
      "seven:\t2114,\t0.03649672841530998\n",
      "go:\t2112,\t0.03646219981699843\n",
      "cat:\t1565,\t0.027018628178789084\n",
      "one:\t2140,\t0.03694560019336015\n",
      "house:\t1577,\t0.027225799768658392\n",
      "down:\t2095,\t0.03616870673135024\n",
      "zero:\t2116,\t0.03653125701362153\n",
      "tree:\t1567,\t0.027053156777100632\n",
      "marvin:\t1586,\t0.027381178461060373\n",
      "off:\t2101,\t0.036272292526284895\n",
      "sheila:\t1558,\t0.02689777808469865\n",
      "eight:\t2109,\t0.0364104069195311\n"
     ]
    }
   ],
   "source": [
    "from collections import Counter\n",
    "count_train = Counter([s[0] for s in train])\n",
    "for k in count_train.keys():\n",
    "    print('{}:\\t{},\\t{}'.format(k, count_train[k], count_train[k] / len(train)))"
   ]
  },
  {
   "cell_type": "code",
   "execution_count": 24,
   "metadata": {},
   "outputs": [
    {
     "name": "stdout",
     "output_type": "stream",
     "text": [
      "four:\t280,\t0.04118858487790527\n",
      "stop:\t246,\t0.03618711385701677\n",
      "yes:\t261,\t0.038393645189761696\n",
      "dog:\t170,\t0.025007355104442484\n",
      "right:\t256,\t0.03765813474551338\n",
      "left:\t247,\t0.03633421594586643\n",
      "bed:\t197,\t0.028979111503383347\n",
      "five:\t242,\t0.03559870550161812\n",
      "three:\t248,\t0.03648131803471609\n",
      "bird:\t162,\t0.02383053839364519\n",
      "wow:\t166,\t0.024418946749043838\n",
      "on:\t257,\t0.03780523683436305\n",
      "happy:\t189,\t0.027802294792586054\n",
      "no:\t270,\t0.03971756398940865\n",
      "six:\t262,\t0.038540747278611356\n",
      "nine:\t230,\t0.033833480435422184\n",
      "up:\t260,\t0.03824654310091203\n",
      "two:\t236,\t0.03471609296852015\n",
      "seven:\t263,\t0.038687849367461016\n",
      "go:\t260,\t0.03824654310091203\n",
      "cat:\t168,\t0.02471315092674316\n",
      "one:\t230,\t0.033833480435422184\n",
      "house:\t173,\t0.025448661370991468\n",
      "down:\t264,\t0.038834951456310676\n",
      "zero:\t260,\t0.03824654310091203\n",
      "tree:\t166,\t0.024418946749043838\n",
      "marvin:\t160,\t0.023536334215945868\n",
      "off:\t256,\t0.03765813474551338\n",
      "sheila:\t176,\t0.025889967637540454\n",
      "eight:\t243,\t0.03574580759046778\n"
     ]
    }
   ],
   "source": [
    "count_val = Counter([s[0] for s in val])\n",
    "for k in count_val.keys():\n",
    "    print('{}:\\t{},\\t{}'.format(k, count_val[k], count_val[k] / len(val)))"
   ]
  },
  {
   "cell_type": "code",
   "execution_count": 78,
   "metadata": {},
   "outputs": [],
   "source": [
    "all_files = glob.glob(os.path.join(TRAIN_MODIFIED_AUDIO_DIR, '*/*wav'))\n",
    "uids = []\n",
    "f_sil = []\n",
    "for fname in all_files:\n",
    "    splits = fname.split('\\\\')\n",
    "    label, uid = splits[-2], splits[-1].split('_')[0]\n",
    "    if label == '_background_noise_':\n",
    "        f_sil.append(fname)\n",
    "    else:\n",
    "        uids.append(uid)\n",
    "uids = np.unique(uids)\n",
    "f_sil = np.unique(f_sil)"
   ]
  },
  {
   "cell_type": "code",
   "execution_count": 80,
   "metadata": {},
   "outputs": [],
   "source": [
    "from sklearn.model_selection import KFold\n",
    "\n",
    "kf = KFold(n_splits=4, shuffle=True, random_state=17)\n",
    "uids_folds = []\n",
    "for train_index, test_index in kf.split(uids):\n",
    "    uids_folds.append([uids[train_index], uids[test_index]])\n",
    "\n",
    "sil_folds = []\n",
    "for train_index, test_index in kf.split(f_sil):\n",
    "    sil_folds.append([f_sil[train_index], f_sil[test_index]])"
   ]
  },
  {
   "cell_type": "code",
   "execution_count": 82,
   "metadata": {},
   "outputs": [
    {
     "name": "stdout",
     "output_type": "stream",
     "text": [
      "1409 470\n",
      "1409 470\n",
      "1409 470\n",
      "1410 469\n",
      "6264 2089\n",
      "6265 2088\n",
      "6265 2088\n",
      "6265 2088\n"
     ]
    }
   ],
   "source": [
    "for uid_f in uids_folds:\n",
    "    print (len(uid_f[0]), len(uid_f[1]))\n",
    "    for i in uid_f[0]:\n",
    "        assert i not in uid_f[1]\n",
    "        \n",
    "for f in sil_folds:\n",
    "    print (len(f[0]), len(f[1]))\n",
    "    for i in f[0]:\n",
    "        assert i not in f[1]"
   ]
  },
  {
   "cell_type": "code",
   "execution_count": 83,
   "metadata": {},
   "outputs": [],
   "source": [
    "all_files = glob.glob(os.path.join(TRAIN_MODIFIED_AUDIO_DIR, '*/*wav'))\n",
    "folds = []\n",
    "for i in range(len(uids_folds)):\n",
    "    uid_f = uids_folds[i]\n",
    "    sil_f = sil_folds[i]\n",
    "    \n",
    "    train_f = []\n",
    "    test_f = []\n",
    "    for fname in all_files:\n",
    "        splits = fname.split('\\\\')\n",
    "        label, uid = splits[-2], splits[-1].split('_')[0]\n",
    "        if uid in uid_f[0] or fname in sil_f[0]:\n",
    "            train_f.append(fname)\n",
    "        elif uid in uid_f[1] or fname in sil_f[1]:\n",
    "            test_f.append(fname)\n",
    "        else:\n",
    "            print(uid)\n",
    "            print('WTF?!')\n",
    "    folds.append([train_f, test_f])"
   ]
  },
  {
   "cell_type": "code",
   "execution_count": 84,
   "metadata": {},
   "outputs": [
    {
     "name": "stdout",
     "output_type": "stream",
     "text": [
      "54171 18056\n",
      "54556 17671\n",
      "53922 18305\n",
      "54599 17628\n"
     ]
    }
   ],
   "source": [
    "for f in folds:\n",
    "    print (len(f[0]), len(f[1]))\n",
    "    for i in f[0]:\n",
    "        assert i not in f[1]"
   ]
  },
  {
   "cell_type": "code",
   "execution_count": 63,
   "metadata": {},
   "outputs": [],
   "source": [
    "from collections import Counter\n",
    "\n",
    "def test_folds(folds):\n",
    "    for fold in folds:\n",
    "        train_files = [f.split('\\\\')[-2] + f.split('\\\\')[-1] for f in fold[0]]\n",
    "        val_files = [f.split('\\\\')[-2] + f.split('\\\\')[-1] for f in fold[1]]\n",
    "\n",
    "        all_files = glob.glob(os.path.join(TRAIN_MODIFIED_AUDIO_DIR, '*/*wav'))\n",
    "\n",
    "        train, val = [], []\n",
    "        for fname in all_files:\n",
    "            splits = fname.split('\\\\')\n",
    "            label, uid = splits[-2], splits[-1].split('_')[0]\n",
    "            if label == '_background_noise_':\n",
    "                label = 'silence'\n",
    "            sample = (label, uid, fname)\n",
    "            sample_id = splits[-2] + splits[-1]\n",
    "            if sample_id in val_files:\n",
    "                val.append(sample)\n",
    "            elif sample_id in train_files:\n",
    "                train.append(sample)\n",
    "        print('There are {} train and {} val samples'.format(len(train), len(val)))\n",
    "\n",
    "        count_train = Counter([s[0] for s in train])\n",
    "        count_val = Counter([s[0] for s in val])\n",
    "        for k in count_train.keys():\n",
    "            print('{}:\\t{}\\t-\\t{},\\t{}\\t-\\t{}'.format(k, count_train[k], count_val[k], count_train[k] / len(train), count_val[k] / len(val)))\n",
    "        print('==============================================================')"
   ]
  },
  {
   "cell_type": "code",
   "execution_count": 85,
   "metadata": {},
   "outputs": [
    {
     "name": "stdout",
     "output_type": "stream",
     "text": [
      "There are 54171 train and 18056 val samples\n",
      "four:\t1769\t-\t573,\t0.0326558490705359\t-\t0.03173460345591493\n",
      "stop:\t1748\t-\t599,\t0.03226818777574717\t-\t0.033174568010633586\n",
      "yes:\t1776\t-\t574,\t0.032785069502132135\t-\t0.031789986708019496\n",
      "dog:\t1288\t-\t453,\t0.02377655941370844\t-\t0.0250886132033673\n",
      "right:\t1729\t-\t591,\t0.031917446604271656\t-\t0.032731501993797076\n",
      "left:\t1733\t-\t582,\t0.03199128685089808\t-\t0.03223305272485601\n",
      "bed:\t1280\t-\t431,\t0.023628878920455593\t-\t0.0238701816570669\n",
      "five:\t1727\t-\t601,\t0.031880526480958446\t-\t0.03328533451484271\n",
      "three:\t1707\t-\t558,\t0.03151132524782633\t-\t0.030903854674346476\n",
      "bird:\t1276\t-\t446,\t0.02355503867382917\t-\t0.024700930438635357\n",
      "wow:\t1269\t-\t465,\t0.02342581824223293\t-\t0.025753212228622063\n",
      "on:\t1769\t-\t555,\t0.0326558490705359\t-\t0.030737704918032786\n",
      "happy:\t1275\t-\t454,\t0.023536578612172565\t-\t0.025143996455471867\n",
      "no:\t1780\t-\t567,\t0.03285890974875856\t-\t0.03140230394328755\n",
      "silence:\t6367\t-\t1986,\t0.11753521256760997\t-\t0.10999113867966327\n",
      "six:\t1760\t-\t564,\t0.03248970851562644\t-\t0.03123615418697386\n",
      "nine:\t1756\t-\t568,\t0.03241586826900002\t-\t0.03145768719539211\n",
      "up:\t1733\t-\t590,\t0.03199128685089808\t-\t0.03267611874169251\n",
      "two:\t1762\t-\t577,\t0.03252662863893965\t-\t0.031956136464333186\n",
      "seven:\t1750\t-\t586,\t0.03230510789906038\t-\t0.032454585733274255\n",
      "go:\t1759\t-\t574,\t0.032471248453969835\t-\t0.031789986708019496\n",
      "cat:\t1262\t-\t464,\t0.02329659781063669\t-\t0.0256978289765175\n",
      "one:\t1729\t-\t606,\t0.031917446604271656\t-\t0.03356225077536553\n",
      "house:\t1308\t-\t437,\t0.02414576064684056\t-\t0.024202481169694284\n",
      "down:\t1738\t-\t591,\t0.03208358715918111\t-\t0.032731501993797076\n",
      "zero:\t1756\t-\t583,\t0.03241586826900002\t-\t0.032288435976960565\n",
      "tree:\t1344\t-\t419,\t0.024810322866478374\t-\t0.02320558263181214\n",
      "marvin:\t1268\t-\t458,\t0.023407358180576324\t-\t0.02536552946389012\n",
      "off:\t1763\t-\t558,\t0.03254508870059626\t-\t0.030903854674346476\n",
      "sheila:\t1283\t-\t437,\t0.02368425910542541\t-\t0.024202481169694284\n",
      "eight:\t1707\t-\t609,\t0.03151132524782633\t-\t0.03372840053167922\n",
      "==============================================================\n",
      "There are 54556 train and 17671 val samples\n",
      "four:\t1763\t-\t579,\t0.03231541901898966\t-\t0.032765548073114145\n",
      "stop:\t1761\t-\t586,\t0.03227875943984163\t-\t0.03316167732442986\n",
      "yes:\t1783\t-\t567,\t0.03268201481046998\t-\t0.032086469356572916\n",
      "dog:\t1313\t-\t428,\t0.0240670137106826\t-\t0.024220474223303718\n",
      "right:\t1782\t-\t538,\t0.03266368502089596\t-\t0.030445362458264954\n",
      "left:\t1754\t-\t561,\t0.03215045091282352\t-\t0.0317469299983023\n",
      "bed:\t1269\t-\t442,\t0.02326050296942591\t-\t0.025012732725935148\n",
      "five:\t1766\t-\t562,\t0.032370408387711706\t-\t0.03180351989134741\n",
      "three:\t1717\t-\t548,\t0.03147224869858494\t-\t0.031011261388715974\n",
      "bird:\t1291\t-\t431,\t0.023663758340054256\t-\t0.024390243902439025\n",
      "wow:\t1318\t-\t416,\t0.02415866265855268\t-\t0.023541395506762493\n",
      "on:\t1729\t-\t595,\t0.031692206173473125\t-\t0.03367098636183578\n",
      "happy:\t1302\t-\t427,\t0.02386538602536843\t-\t0.024163884330258616\n",
      "no:\t1769\t-\t578,\t0.03242539775643376\t-\t0.03270895818006904\n",
      "silence:\t6431\t-\t1922,\t0.11787887675049491\t-\t0.10876577443268633\n",
      "six:\t1721\t-\t603,\t0.031545567856881\t-\t0.034123705506196596\n",
      "nine:\t1745\t-\t579,\t0.03198548280665738\t-\t0.032765548073114145\n",
      "up:\t1785\t-\t538,\t0.03271867438961801\t-\t0.030445362458264954\n",
      "two:\t1769\t-\t570,\t0.03242539775643376\t-\t0.03225623903570822\n",
      "seven:\t1754\t-\t582,\t0.03215045091282352\t-\t0.03293531775224945\n",
      "go:\t1736\t-\t597,\t0.031820514700491236\t-\t0.03378416614792598\n",
      "cat:\t1311\t-\t415,\t0.024030354131534568\t-\t0.02348480561371739\n",
      "one:\t1767\t-\t568,\t0.03238873817728573\t-\t0.032143059249618015\n",
      "house:\t1326\t-\t419,\t0.024305300975144804\t-\t0.0237111651858978\n",
      "down:\t1758\t-\t571,\t0.03222377007111958\t-\t0.032312828928753326\n",
      "zero:\t1763\t-\t576,\t0.03231541901898966\t-\t0.032595778393978835\n",
      "tree:\t1288\t-\t475,\t0.023608768971332208\t-\t0.02688019919642352\n",
      "marvin:\t1282\t-\t444,\t0.023498790233888116\t-\t0.025125912512025353\n",
      "off:\t1743\t-\t578,\t0.031948823227509346\t-\t0.03270895818006904\n",
      "sheila:\t1283\t-\t437,\t0.02351712002346213\t-\t0.024729783260709636\n",
      "eight:\t1777\t-\t539,\t0.03257203607302588\t-\t0.030501952351310056\n",
      "==============================================================\n",
      "There are 53922 train and 18305 val samples\n",
      "four:\t1733\t-\t609,\t0.03213901561514781\t-\t0.03326959847036329\n",
      "stop:\t1736\t-\t611,\t0.03219465153369682\t-\t0.03337885823545479\n",
      "yes:\t1731\t-\t619,\t0.0321019250027818\t-\t0.03381589729582082\n",
      "dog:\t1306\t-\t435,\t0.024220169875004638\t-\t0.02376399890740235\n",
      "right:\t1702\t-\t618,\t0.031564111123474646\t-\t0.033761267413275065\n",
      "left:\t1699\t-\t616,\t0.03150847520492563\t-\t0.03365200764818355\n",
      "bed:\t1307\t-\t404,\t0.024238715181187642\t-\t0.02207047254848402\n",
      "five:\t1722\t-\t606,\t0.03193501724713475\t-\t0.03310570882272603\n",
      "three:\t1673\t-\t592,\t0.0310262972441675\t-\t0.03234089046708549\n",
      "bird:\t1295\t-\t427,\t0.02401617150699158\t-\t0.023326959847036328\n",
      "wow:\t1287\t-\t447,\t0.02386780905752754\t-\t0.02441955749795138\n",
      "on:\t1734\t-\t590,\t0.03215756092133081\t-\t0.03223163070199399\n",
      "happy:\t1319\t-\t410,\t0.0244612588553837\t-\t0.022398251843758536\n",
      "no:\t1720\t-\t627,\t0.03189792663476874\t-\t0.034252936356186835\n",
      "silence:\t6397\t-\t1956,\t0.1186343236526835\t-\t0.10685605025949194\n",
      "six:\t1736\t-\t588,\t0.03219465153369682\t-\t0.03212237093690248\n",
      "nine:\t1723\t-\t601,\t0.03195356255331776\t-\t0.03283255940999727\n",
      "up:\t1738\t-\t585,\t0.03223174214606283\t-\t0.03195848128926523\n",
      "two:\t1734\t-\t605,\t0.03215756092133081\t-\t0.03305107894018028\n",
      "seven:\t1746\t-\t590,\t0.03238010459552687\t-\t0.03223163070199399\n",
      "go:\t1717\t-\t616,\t0.031842290716219725\t-\t0.03365200764818355\n",
      "cat:\t1284\t-\t442,\t0.023812173138978526\t-\t0.02414640808522262\n",
      "one:\t1743\t-\t592,\t0.03232446867697786\t-\t0.03234089046708549\n",
      "house:\t1311\t-\t434,\t0.024312896405919663\t-\t0.023709369024856597\n",
      "down:\t1721\t-\t608,\t0.03191647194095174\t-\t0.033214968587817535\n",
      "zero:\t1724\t-\t615,\t0.03197210785950076\t-\t0.0335973777656378\n",
      "tree:\t1351\t-\t412,\t0.025054708653239863\t-\t0.02250751160885004\n",
      "marvin:\t1331\t-\t395,\t0.024683802529579763\t-\t0.02157880360557225\n",
      "off:\t1687\t-\t634,\t0.031285931530729574\t-\t0.0346353455340071\n",
      "sheila:\t1292\t-\t428,\t0.023960535588442564\t-\t0.02338158972958208\n",
      "eight:\t1723\t-\t593,\t0.03195356255331776\t-\t0.03239552034963125\n",
      "==============================================================\n",
      "There are 54599 train and 17628 val samples\n",
      "four:\t1761\t-\t581,\t0.032253337973222954\t-\t0.03295892897662809\n",
      "stop:\t1796\t-\t551,\t0.03289437535485998\t-\t0.031257090991604265\n",
      "yes:\t1760\t-\t590,\t0.032235022619461894\t-\t0.03346948037213524\n",
      "dog:\t1316\t-\t425,\t0.02410300554955219\t-\t0.0241093714545042\n",
      "right:\t1747\t-\t573,\t0.03199692302056814\t-\t0.03250510551395507\n",
      "left:\t1759\t-\t556,\t0.03221670726570084\t-\t0.0315407306557749\n",
      "bed:\t1277\t-\t434,\t0.02338870675287093\t-\t0.024619922850011345\n",
      "five:\t1769\t-\t559,\t0.03239986080331141\t-\t0.03171091445427729\n",
      "three:\t1698\t-\t567,\t0.031099470686276304\t-\t0.032164737916950306\n",
      "bird:\t1304\t-\t418,\t0.023883221304419496\t-\t0.023712275924665304\n",
      "wow:\t1328\t-\t406,\t0.024322789794684885\t-\t0.023031540730655775\n",
      "on:\t1740\t-\t584,\t0.031868715544240735\t-\t0.033129112775130476\n",
      "happy:\t1291\t-\t438,\t0.023645121705525744\t-\t0.024846834581347857\n",
      "no:\t1772\t-\t575,\t0.03245480686459459\t-\t0.03261856137962332\n",
      "silence:\t6431\t-\t1922,\t0.11778604003736332\t-\t0.1090310869071931\n",
      "six:\t1755\t-\t569,\t0.03214344585065661\t-\t0.032278193782618564\n",
      "nine:\t1748\t-\t576,\t0.0320152383743292\t-\t0.03267528931245745\n",
      "up:\t1713\t-\t610,\t0.031374200992692176\t-\t0.03460403902881779\n",
      "two:\t1752\t-\t587,\t0.032088499789373434\t-\t0.033299296573632856\n",
      "seven:\t1758\t-\t578,\t0.03219839191193978\t-\t0.03278874517812571\n",
      "go:\t1787\t-\t546,\t0.03272953717101046\t-\t0.030973451327433628\n",
      "cat:\t1321\t-\t405,\t0.02419458231835748\t-\t0.022974812797821646\n",
      "one:\t1766\t-\t569,\t0.03234491474202824\t-\t0.032278193782618564\n",
      "house:\t1290\t-\t455,\t0.023626806351764684\t-\t0.025811209439528023\n",
      "down:\t1770\t-\t559,\t0.03241817615707247\t-\t0.03171091445427729\n",
      "zero:\t1774\t-\t565,\t0.032491437572116706\t-\t0.03205128205128205\n",
      "tree:\t1306\t-\t457,\t0.02391985201194161\t-\t0.025924665305196277\n",
      "marvin:\t1297\t-\t429,\t0.02375501382809209\t-\t0.024336283185840708\n",
      "off:\t1770\t-\t551,\t0.03241817615707247\t-\t0.031257090991604265\n",
      "sheila:\t1302\t-\t418,\t0.02384659059689738\t-\t0.023712275924665304\n",
      "eight:\t1741\t-\t575,\t0.031887030898001795\t-\t0.03261856137962332\n",
      "==============================================================\n"
     ]
    }
   ],
   "source": [
    "test_folds(folds)"
   ]
  },
  {
   "cell_type": "code",
   "execution_count": 86,
   "metadata": {},
   "outputs": [],
   "source": [
    "with gzip.open(TRAIN_MODIFIED_DIR + 'kfold4_max.pklz', 'wb') as f:\n",
    "    pickle.dump(folds, f)"
   ]
  },
  {
   "cell_type": "code",
   "execution_count": 88,
   "metadata": {},
   "outputs": [],
   "source": [
    "my_folds = pickle.load(gzip.open(TRAIN_MODIFIED_DIR + 'kfold4_max.pklz', 'rb'))\n",
    "assert (my_folds == folds)"
   ]
  },
  {
   "cell_type": "code",
   "execution_count": 65,
   "metadata": {},
   "outputs": [],
   "source": [
    "import pickle\n",
    "import gzip\n",
    "\n",
    "our_folds = pickle.load(gzip.open(TRAIN_MODIFIED_DIR + KFOLD_FILENAME, 'rb'))"
   ]
  },
  {
   "cell_type": "code",
   "execution_count": 66,
   "metadata": {},
   "outputs": [
    {
     "name": "stdout",
     "output_type": "stream",
     "text": [
      "There are 53504 train and 18717 val samples\n",
      "four:\t2342\t-\t0,\t0.043772428229665074\t-\t0.0\n",
      "stop:\t1768\t-\t579,\t0.033044258373205744\t-\t0.030934444622535664\n",
      "dog:\t1741\t-\t0,\t0.03253962320574163\t-\t0.0\n",
      "right:\t1742\t-\t578,\t0.03255831339712919\t-\t0.030881017257039057\n",
      "left:\t1723\t-\t592,\t0.03220319976076555\t-\t0.03162900037399156\n",
      "bed:\t1711\t-\t0,\t0.03197891746411483\t-\t0.0\n",
      "five:\t2328\t-\t0,\t0.043510765550239236\t-\t0.0\n",
      "three:\t2265\t-\t0,\t0.04233328349282297\t-\t0.0\n",
      "bird:\t1722\t-\t0,\t0.03218450956937799\t-\t0.0\n",
      "yes:\t1734\t-\t616,\t0.032408791866028706\t-\t0.03291125714591014\n",
      "on:\t1724\t-\t600,\t0.03222188995215311\t-\t0.03205641929796442\n",
      "happy:\t1729\t-\t0,\t0.03231534090909091\t-\t0.0\n",
      "no:\t1762\t-\t585,\t0.03293211722488038\t-\t0.03125500881551531\n",
      "silence:\t6040\t-\t2307,\t0.11288875598086125\t-\t0.12325693220067319\n",
      "six:\t2324\t-\t0,\t0.043436004784688995\t-\t0.0\n",
      "seven:\t2336\t-\t0,\t0.04366028708133971\t-\t0.0\n",
      "up:\t1734\t-\t589,\t0.032408791866028706\t-\t0.03146871827750174\n",
      "two:\t2339\t-\t0,\t0.04371635765550239\t-\t0.0\n",
      "sheila:\t1720\t-\t0,\t0.03214712918660287\t-\t0.0\n",
      "go:\t1733\t-\t600,\t0.032390101674641146\t-\t0.03205641929796442\n",
      "cat:\t1726\t-\t0,\t0.03225927033492823\t-\t0.0\n",
      "house:\t1745\t-\t0,\t0.03261438397129186\t-\t0.0\n",
      "down:\t1712\t-\t617,\t0.03199760765550239\t-\t0.032964684511406744\n",
      "tree:\t1763\t-\t0,\t0.03295080741626794\t-\t0.0\n",
      "off:\t1725\t-\t596,\t0.03224058014354067\t-\t0.031842709835977985\n",
      "eight:\t2316\t-\t0,\t0.04328648325358852\t-\t0.0\n",
      "==============================================================\n",
      "There are 53793 train and 18428 val samples\n",
      "four:\t2342\t-\t0,\t0.04353726321268567\t-\t0.0\n",
      "stop:\t1727\t-\t620,\t0.032104548919004335\t-\t0.03364445409159974\n",
      "yes:\t1725\t-\t625,\t0.03206736936032569\t-\t0.03391578033427393\n",
      "dog:\t1741\t-\t0,\t0.0323648058297548\t-\t0.0\n",
      "right:\t1685\t-\t635,\t0.03132377818675292\t-\t0.03445843281962231\n",
      "left:\t1747\t-\t568,\t0.03247634450579072\t-\t0.03082266116778815\n",
      "five:\t2328\t-\t0,\t0.0432770063019352\t-\t0.0\n",
      "bird:\t1722\t-\t0,\t0.03201160002230773\t-\t0.0\n",
      "wow:\t1734\t-\t0,\t0.032234677374379565\t-\t0.0\n",
      "on:\t1736\t-\t588,\t0.0322718569330582\t-\t0.031907966138484914\n",
      "happy:\t1729\t-\t0,\t0.03214172847768297\t-\t0.0\n",
      "no:\t1726\t-\t621,\t0.03208595913966501\t-\t0.033698719340134575\n",
      "silence:\t6345\t-\t2002,\t0.11795214990798059\t-\t0.10863902756674626\n",
      "six:\t2324\t-\t0,\t0.04320264718457792\t-\t0.0\n",
      "nine:\t2324\t-\t0,\t0.04320264718457792\t-\t0.0\n",
      "up:\t1709\t-\t614,\t0.031769932890896586\t-\t0.03331886260039071\n",
      "sheila:\t1720\t-\t0,\t0.0319744204636291\t-\t0.0\n",
      "go:\t1737\t-\t596,\t0.03229044671239752\t-\t0.03234208812676362\n",
      "cat:\t1726\t-\t0,\t0.03208595913966501\t-\t0.0\n",
      "one:\t2335\t-\t0,\t0.04340713475731043\t-\t0.0\n",
      "down:\t1738\t-\t591,\t0.032309036491736845\t-\t0.03207076188408943\n",
      "zero:\t2339\t-\t0,\t0.04348149387466771\t-\t0.0\n",
      "tree:\t1763\t-\t0,\t0.032773780975219824\t-\t0.0\n",
      "marvin:\t1726\t-\t0,\t0.03208595913966501\t-\t0.0\n",
      "off:\t1749\t-\t572,\t0.032513524064469355\t-\t0.0310397221619275\n",
      "eight:\t2316\t-\t0,\t0.04305392894986337\t-\t0.0\n",
      "==============================================================\n",
      "There are 54180 train and 18041 val samples\n",
      "left:\t1748\t-\t567,\t0.032262827611664824\t-\t0.03142841305914306\n",
      "stop:\t1775\t-\t572,\t0.03276116648209672\t-\t0.03170555955878277\n",
      "yes:\t1779\t-\t571,\t0.03283499446290144\t-\t0.03165013025885483\n",
      "no:\t1752\t-\t595,\t0.032336655592469545\t-\t0.03298043345712544\n",
      "right:\t1781\t-\t539,\t0.0328719084533038\t-\t0.02987639266116069\n",
      "one:\t2335\t-\t0,\t0.04309708379475821\t-\t0.0\n",
      "house:\t1745\t-\t0,\t0.032207456626061275\t-\t0.0\n",
      "five:\t2328\t-\t0,\t0.04296788482834994\t-\t0.0\n",
      "three:\t2265\t-\t0,\t0.04180509413067553\t-\t0.0\n",
      "wow:\t1734\t-\t0,\t0.032004429678848284\t-\t0.0\n",
      "on:\t1774\t-\t550,\t0.03274270948689553\t-\t0.03048611496036805\n",
      "happy:\t1729\t-\t0,\t0.03191214470284238\t-\t0.0\n",
      "silence:\t6374\t-\t1973,\t0.11764488741232927\t-\t0.1093620087578294\n",
      "nine:\t2324\t-\t0,\t0.04289405684754522\t-\t0.0\n",
      "up:\t1772\t-\t551,\t0.03270579549649317\t-\t0.030541544260295993\n",
      "two:\t2339\t-\t0,\t0.04317091177556294\t-\t0.0\n",
      "seven:\t2336\t-\t0,\t0.0431155407899594\t-\t0.0\n",
      "go:\t1775\t-\t558,\t0.03276116648209672\t-\t0.030929549359791586\n",
      "cat:\t1726\t-\t0,\t0.031856773717238836\t-\t0.0\n",
      "bed:\t1711\t-\t0,\t0.03157991878922112\t-\t0.0\n",
      "down:\t1784\t-\t545,\t0.032927279438907345\t-\t0.03020896846072834\n",
      "zero:\t2339\t-\t0,\t0.04317091177556294\t-\t0.0\n",
      "tree:\t1763\t-\t0,\t0.03253968253968254\t-\t0.0\n",
      "marvin:\t1726\t-\t0,\t0.031856773717238836\t-\t0.0\n",
      "off:\t1746\t-\t575,\t0.03222591362126246\t-\t0.031871847458566596\n",
      "sheila:\t1720\t-\t0,\t0.031746031746031744\t-\t0.0\n",
      "==============================================================\n",
      "There are 55186 train and 17035 val samples\n",
      "four:\t2342\t-\t0,\t0.0424382995687312\t-\t0.0\n",
      "stop:\t1771\t-\t576,\t0.03209147247490306\t-\t0.03381273847960082\n",
      "yes:\t1812\t-\t538,\t0.032834414525423114\t-\t0.031582036982682714\n",
      "dog:\t1741\t-\t0,\t0.031547856340376185\t-\t0.0\n",
      "right:\t1752\t-\t568,\t0.03174718225636937\t-\t0.03334311711182859\n",
      "left:\t1727\t-\t588,\t0.031294168810930306\t-\t0.034517170531259175\n",
      "bed:\t1711\t-\t0,\t0.03100424020584931\t-\t0.0\n",
      "three:\t2265\t-\t0,\t0.041043018156778896\t-\t0.0\n",
      "bird:\t1722\t-\t0,\t0.031203566121842496\t-\t0.0\n",
      "wow:\t1734\t-\t0,\t0.031421012575653245\t-\t0.0\n",
      "on:\t1738\t-\t586,\t0.0314934947269235\t-\t0.03439976518931612\n",
      "no:\t1801\t-\t546,\t0.03263508860942993\t-\t0.03205165835045495\n",
      "silence:\t6282\t-\t2065,\t0.11383321856992716\t-\t0.1212210155562078\n",
      "six:\t2324\t-\t0,\t0.042112129888015076\t-\t0.0\n",
      "nine:\t2324\t-\t0,\t0.042112129888015076\t-\t0.0\n",
      "up:\t1754\t-\t569,\t0.03178342333200449\t-\t0.033401819782800116\n",
      "two:\t2339\t-\t0,\t0.04238393795527851\t-\t0.0\n",
      "seven:\t2336\t-\t0,\t0.042329576341825825\t-\t0.0\n",
      "go:\t1754\t-\t579,\t0.03178342333200449\t-\t0.03398884649251541\n",
      "one:\t2335\t-\t0,\t0.04231145580400826\t-\t0.0\n",
      "house:\t1745\t-\t0,\t0.03162033849164643\t-\t0.0\n",
      "down:\t1753\t-\t576,\t0.031765302794186934\t-\t0.03381273847960082\n",
      "zero:\t2339\t-\t0,\t0.04238393795527851\t-\t0.0\n",
      "marvin:\t1726\t-\t0,\t0.03127604827311275\t-\t0.0\n",
      "off:\t1743\t-\t578,\t0.03158409741601131\t-\t0.03393014382154388\n",
      "eight:\t2316\t-\t0,\t0.04196716558547458\t-\t0.0\n",
      "==============================================================\n"
     ]
    }
   ],
   "source": [
    "test_folds(our_folds)"
   ]
  },
  {
   "cell_type": "code",
   "execution_count": null,
   "metadata": {},
   "outputs": [],
   "source": []
  }
 ],
 "metadata": {
  "kernelspec": {
   "display_name": "Python [conda env:tf]",
   "language": "python",
   "name": "conda-env-tf-py"
  },
  "language_info": {
   "codemirror_mode": {
    "name": "ipython",
    "version": 3
   },
   "file_extension": ".py",
   "mimetype": "text/x-python",
   "name": "python",
   "nbconvert_exporter": "python",
   "pygments_lexer": "ipython3",
   "version": "3.5.3"
  }
 },
 "nbformat": 4,
 "nbformat_minor": 2
}
