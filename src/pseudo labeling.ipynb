{
 "cells": [
  {
   "cell_type": "code",
   "execution_count": 4,
   "metadata": {},
   "outputs": [],
   "source": [
    "import pandas as pd\n",
    "import numpy as np\n",
    "import matplotlib.pyplot as plt\n",
    "\n",
    "%matplotlib inline\n",
    "\n",
    "LABELS = ['yes', 'no', 'up', 'down', 'left', 'right', 'on', 'off', 'stop', 'go', 'silence', 'unknown']\n",
    "ID2NAME = {i: name for i, name in enumerate(LABELS)}\n",
    "NAME2ID = {name: i for i, name in ID2NAME.items()}\n"
   ]
  },
  {
   "cell_type": "code",
   "execution_count": 37,
   "metadata": {},
   "outputs": [],
   "source": [
    "df = pd.read_csv('../output/preds/subm_ensemble_weights_raw_8.csv', index_col='fname')\n",
    "probs = df.values\n",
    "fnames = df.index\n",
    "\n",
    "labels = np.argmax(probs, axis=1)\n",
    "labels = np.array([ID2NAME[i] for i in labels])\n",
    "max_probs = np.max(probs, axis=1)"
   ]
  },
  {
   "cell_type": "code",
   "execution_count": 43,
   "metadata": {},
   "outputs": [
    {
     "name": "stdout",
     "output_type": "stream",
     "text": [
      "158538\n",
      "115576\n",
      "42962\n"
     ]
    }
   ],
   "source": [
    "print(len(fnames))\n",
    "print(len(fnames[max_probs > 0.9]))\n",
    "print(len(fnames[max_probs <= 0.9]))"
   ]
  },
  {
   "cell_type": "code",
   "execution_count": 47,
   "metadata": {},
   "outputs": [],
   "source": [
    "pseudo_label = pd.DataFrame({'fname': fnames[max_probs > 0.9], 'label': labels[max_probs > 0.9]})\n",
    "no_label = pd.DataFrame({'fname': fnames[max_probs <= 0.9]})\n",
    "pseudo_label.to_csv('../input/pseudo_label.csv', index=False)\n",
    "no_label.to_csv('../input/no_label.csv', index=False)"
   ]
  },
  {
   "cell_type": "code",
   "execution_count": null,
   "metadata": {},
   "outputs": [],
   "source": []
  },
  {
   "cell_type": "code",
   "execution_count": 59,
   "metadata": {},
   "outputs": [],
   "source": [
    "from utilities import *\n",
    "\n",
    "pl_fnames = pseudo_label.fname\n",
    "pl_fnames = np.array([os.path.join(TEST_DIR, f) for f in pl_fnames])"
   ]
  },
  {
   "cell_type": "code",
   "execution_count": 60,
   "metadata": {},
   "outputs": [
    {
     "data": {
      "text/plain": [
       "array(['C:/data/tf_speech/test/audio/clip_000044442.wav',\n",
       "       'C:/data/tf_speech/test/audio/clip_0000adecb.wav',\n",
       "       'C:/data/tf_speech/test/audio/clip_0000d4322.wav',\n",
       "       'C:/data/tf_speech/test/audio/clip_0001d1559.wav',\n",
       "       'C:/data/tf_speech/test/audio/clip_0002256ed.wav',\n",
       "       'C:/data/tf_speech/test/audio/clip_0002a4a1f.wav',\n",
       "       'C:/data/tf_speech/test/audio/clip_0002d9b83.wav',\n",
       "       'C:/data/tf_speech/test/audio/clip_000373a5b.wav',\n",
       "       'C:/data/tf_speech/test/audio/clip_0003e6aee.wav',\n",
       "       'C:/data/tf_speech/test/audio/clip_00049951d.wav'], dtype='<U47')"
      ]
     },
     "execution_count": 60,
     "metadata": {},
     "output_type": "execute_result"
    }
   ],
   "source": [
    "pl_fnames[:10]"
   ]
  },
  {
   "cell_type": "code",
   "execution_count": 74,
   "metadata": {},
   "outputs": [
    {
     "name": "stdout",
     "output_type": "stream",
     "text": [
      "86682 28894\n",
      "86682 28894\n",
      "86682 28894\n",
      "86682 28894\n"
     ]
    }
   ],
   "source": [
    "from sklearn.model_selection import KFold\n",
    "import pickle\n",
    "import gzip\n",
    "\n",
    "MY_KFOLD_NOISE_FILENAME = 'kfold4_max_new_noise.pklz'\n",
    "folds = pickle.load(gzip.open(TRAIN_MODIFIED_DIR + MY_KFOLD_NOISE_FILENAME, 'rb'))\n",
    "\n",
    "kf = KFold(n_splits=4, shuffle=True, random_state=17)\n",
    "\n",
    "pl_folds = []\n",
    "for train_index, test_index in kf.split(pl_fnames):\n",
    "    pl_folds.append([pl_fnames[train_index], pl_fnames[test_index]])\n",
    "\n",
    "for f in pl_folds:\n",
    "    print(len(f[0]), len(f[1]))\n",
    "    \n",
    "with gzip.open(TRAIN_MODIFIED_DIR + 'kfold4_max_pseudo_label.pklz', 'wb') as f:\n",
    "    pickle.dump(pl_folds, f)"
   ]
  },
  {
   "cell_type": "code",
   "execution_count": null,
   "metadata": {},
   "outputs": [],
   "source": []
  },
  {
   "cell_type": "code",
   "execution_count": 64,
   "metadata": {},
   "outputs": [
    {
     "data": {
      "text/plain": [
       "array(['C:/data/tf_speech/test/audio/clip_000044442.wav',\n",
       "       'C:/data/tf_speech/test/audio/clip_0000adecb.wav',\n",
       "       'C:/data/tf_speech/test/audio/clip_0000d4322.wav',\n",
       "       'C:/data/tf_speech/test/audio/clip_0001d1559.wav',\n",
       "       'C:/data/tf_speech/test/audio/clip_0002256ed.wav',\n",
       "       'C:/data/tf_speech/test/audio/clip_0002a4a1f.wav',\n",
       "       'C:/data/tf_speech/test/audio/clip_0002d9b83.wav',\n",
       "       'C:/data/tf_speech/test/audio/clip_000373a5b.wav',\n",
       "       'C:/data/tf_speech/test/audio/clip_0003e6aee.wav',\n",
       "       'C:/data/tf_speech/test/audio/clip_00049951d.wav'], dtype='<U47')"
      ]
     },
     "execution_count": 64,
     "metadata": {},
     "output_type": "execute_result"
    }
   ],
   "source": [
    "pl_fnames[:10]"
   ]
  },
  {
   "cell_type": "code",
   "execution_count": 72,
   "metadata": {},
   "outputs": [
    {
     "data": {
      "text/plain": [
       "['C:', 'data', 'tf_speech', 'test', 'audio', 'clip_000044442.wav']"
      ]
     },
     "execution_count": 72,
     "metadata": {},
     "output_type": "execute_result"
    }
   ],
   "source": [
    "splits = pl_fnames[0].split('/')\n",
    "splits"
   ]
  },
  {
   "cell_type": "code",
   "execution_count": 69,
   "metadata": {},
   "outputs": [
    {
     "data": {
      "text/plain": [
       "unknown    69004\n",
       "yes         4948\n",
       "stop        4763\n",
       "right       4457\n",
       "off         4454\n",
       "left        4435\n",
       "on          4338\n",
       "no          4069\n",
       "down        4043\n",
       "silence     3827\n",
       "go          3693\n",
       "up          3545\n",
       "Name: label, dtype: int64"
      ]
     },
     "execution_count": 69,
     "metadata": {},
     "output_type": "execute_result"
    }
   ],
   "source": [
    "pseudo_label.label.value_counts()"
   ]
  },
  {
   "cell_type": "code",
   "execution_count": 70,
   "metadata": {},
   "outputs": [
    {
     "data": {
      "text/plain": [
       "(array(['down', 'go', 'left', 'no', 'off', 'on', 'right', 'silence',\n",
       "        'stop', 'unknown', 'up', 'yes'], dtype='<U7'),\n",
       " array([ 5527,  5452,  6088,  6065,  5936,  5904,  5413,  8801,  5544,\n",
       "        92873,  5384,  5551], dtype=int64))"
      ]
     },
     "execution_count": 70,
     "metadata": {},
     "output_type": "execute_result"
    }
   ],
   "source": [
    "np.unique(labels, return_counts=True)"
   ]
  },
  {
   "cell_type": "code",
   "execution_count": 77,
   "metadata": {},
   "outputs": [],
   "source": [
    "df_pl = pd.read_csv('../input/pseudo_label.csv', index_col='fname')"
   ]
  },
  {
   "cell_type": "code",
   "execution_count": 78,
   "metadata": {},
   "outputs": [
    {
     "data": {
      "text/html": [
       "<div>\n",
       "<style>\n",
       "    .dataframe thead tr:only-child th {\n",
       "        text-align: right;\n",
       "    }\n",
       "\n",
       "    .dataframe thead th {\n",
       "        text-align: left;\n",
       "    }\n",
       "\n",
       "    .dataframe tbody tr th {\n",
       "        vertical-align: top;\n",
       "    }\n",
       "</style>\n",
       "<table border=\"1\" class=\"dataframe\">\n",
       "  <thead>\n",
       "    <tr style=\"text-align: right;\">\n",
       "      <th></th>\n",
       "      <th>label</th>\n",
       "    </tr>\n",
       "    <tr>\n",
       "      <th>fname</th>\n",
       "      <th></th>\n",
       "    </tr>\n",
       "  </thead>\n",
       "  <tbody>\n",
       "    <tr>\n",
       "      <th>clip_000044442.wav</th>\n",
       "      <td>no</td>\n",
       "    </tr>\n",
       "    <tr>\n",
       "      <th>clip_0000adecb.wav</th>\n",
       "      <td>unknown</td>\n",
       "    </tr>\n",
       "    <tr>\n",
       "      <th>clip_0000d4322.wav</th>\n",
       "      <td>unknown</td>\n",
       "    </tr>\n",
       "    <tr>\n",
       "      <th>clip_0001d1559.wav</th>\n",
       "      <td>unknown</td>\n",
       "    </tr>\n",
       "    <tr>\n",
       "      <th>clip_0002256ed.wav</th>\n",
       "      <td>unknown</td>\n",
       "    </tr>\n",
       "  </tbody>\n",
       "</table>\n",
       "</div>"
      ],
      "text/plain": [
       "                      label\n",
       "fname                      \n",
       "clip_000044442.wav       no\n",
       "clip_0000adecb.wav  unknown\n",
       "clip_0000d4322.wav  unknown\n",
       "clip_0001d1559.wav  unknown\n",
       "clip_0002256ed.wav  unknown"
      ]
     },
     "execution_count": 78,
     "metadata": {},
     "output_type": "execute_result"
    }
   ],
   "source": [
    "df_pl.head()"
   ]
  },
  {
   "cell_type": "code",
   "execution_count": 82,
   "metadata": {},
   "outputs": [
    {
     "data": {
      "text/plain": [
       "'no'"
      ]
     },
     "execution_count": 82,
     "metadata": {},
     "output_type": "execute_result"
    }
   ],
   "source": [
    "df_pl.loc['clip_000044442.wav'].label"
   ]
  },
  {
   "cell_type": "code",
   "execution_count": null,
   "metadata": {},
   "outputs": [],
   "source": []
  }
 ],
 "metadata": {
  "kernelspec": {
   "display_name": "Python [conda env:tf]",
   "language": "python",
   "name": "conda-env-tf-py"
  },
  "language_info": {
   "codemirror_mode": {
    "name": "ipython",
    "version": 3
   },
   "file_extension": ".py",
   "mimetype": "text/x-python",
   "name": "python",
   "nbconvert_exporter": "python",
   "pygments_lexer": "ipython3",
   "version": "3.5.3"
  }
 },
 "nbformat": 4,
 "nbformat_minor": 2
}
