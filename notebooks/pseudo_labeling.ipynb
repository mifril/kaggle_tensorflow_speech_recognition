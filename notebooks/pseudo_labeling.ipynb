{
 "cells": [
  {
   "cell_type": "code",
   "execution_count": 117,
   "metadata": {},
   "outputs": [],
   "source": [
    "import pandas as pd\n",
    "import numpy as np\n",
    "import matplotlib.pyplot as plt\n",
    "\n",
    "%matplotlib inline\n",
    "\n",
    "LABELS = ['yes', 'no', 'up', 'down', 'left', 'right', 'on', 'off', 'stop', 'go', 'silence', 'unknown']\n",
    "ID2NAME = {i: name for i, name in enumerate(LABELS)}\n",
    "NAME2ID = {name: i for i, name in ID2NAME.items()}\n"
   ]
  },
  {
   "cell_type": "code",
   "execution_count": 135,
   "metadata": {},
   "outputs": [],
   "source": [
    "df = pd.read_csv('../output/preds/subm_ensemble_weights_raw_8.csv', index_col='fname')\n",
    "probs = df.values\n",
    "fnames = df.index\n",
    "\n",
    "labels = np.argmax(probs, axis=1)\n",
    "labels = np.array([ID2NAME[i] for i in labels])\n",
    "max_probs = np.max(probs, axis=1)"
   ]
  },
  {
   "cell_type": "code",
   "execution_count": 146,
   "metadata": {},
   "outputs": [
    {
     "name": "stdout",
     "output_type": "stream",
     "text": [
      "158538\n",
      "157343\n",
      "1195\n"
     ]
    }
   ],
   "source": [
    "print(len(fnames))\n",
    "print(len(fnames[max_probs > 0.9]))\n",
    "print(len(fnames[max_probs <= 0.9]))"
   ]
  },
  {
   "cell_type": "code",
   "execution_count": 138,
   "metadata": {},
   "outputs": [
    {
     "data": {
      "text/plain": [
       "Index(['clip_331554507.wav', 'clip_4163f1c56.wav', 'clip_4a829bd01.wav',\n",
       "       'clip_4b3f2f2a5.wav', 'clip_5b9466944.wav', 'clip_6984d7385.wav',\n",
       "       'clip_8c0432a65.wav', 'clip_8c5e9681c.wav', 'clip_9482d2362.wav',\n",
       "       'clip_9cf04943d.wav', 'clip_a670a03cc.wav', 'clip_b226454a9.wav',\n",
       "       'clip_d821d2a9b.wav', 'clip_dfb8a2c84.wav', 'clip_ef5fc8148.wav',\n",
       "       'clip_f8d0d10ab.wav'],\n",
       "      dtype='object', name='fname')"
      ]
     },
     "execution_count": 138,
     "metadata": {},
     "output_type": "execute_result"
    }
   ],
   "source": [
    "fnames[max_probs <= 0.2]"
   ]
  },
  {
   "cell_type": "code",
   "execution_count": 139,
   "metadata": {},
   "outputs": [
    {
     "data": {
      "text/plain": [
       "array(['stop', 'on', 'stop', 'no', 'unknown', 'stop', 'up', 'stop', 'yes',\n",
       "       'stop', 'on', 'go', 'go', 'unknown', 'stop', 'off'], dtype='<U7')"
      ]
     },
     "execution_count": 139,
     "metadata": {},
     "output_type": "execute_result"
    }
   ],
   "source": [
    "labels[max_probs <= 0.2]"
   ]
  },
  {
   "cell_type": "code",
   "execution_count": 47,
   "metadata": {},
   "outputs": [],
   "source": [
    "pseudo_label = pd.DataFrame({'fname': fnames[max_probs > 0.9], 'label': labels[max_probs > 0.9]})\n",
    "no_label = pd.DataFrame({'fname': fnames[max_probs <= 0.9]})\n",
    "pseudo_label.to_csv('../input/pseudo_label.csv', index=False)\n",
    "no_label.to_csv('../input/no_label.csv', index=False)"
   ]
  },
  {
   "cell_type": "code",
   "execution_count": null,
   "metadata": {},
   "outputs": [],
   "source": []
  },
  {
   "cell_type": "code",
   "execution_count": 59,
   "metadata": {},
   "outputs": [],
   "source": [
    "from utilities import *\n",
    "\n",
    "pl_fnames = pseudo_label.fname\n",
    "pl_fnames = np.array([os.path.join(TEST_DIR, f) for f in pl_fnames])"
   ]
  },
  {
   "cell_type": "code",
   "execution_count": 60,
   "metadata": {},
   "outputs": [
    {
     "data": {
      "text/plain": [
       "array(['C:/data/tf_speech/test/audio/clip_000044442.wav',\n",
       "       'C:/data/tf_speech/test/audio/clip_0000adecb.wav',\n",
       "       'C:/data/tf_speech/test/audio/clip_0000d4322.wav',\n",
       "       'C:/data/tf_speech/test/audio/clip_0001d1559.wav',\n",
       "       'C:/data/tf_speech/test/audio/clip_0002256ed.wav',\n",
       "       'C:/data/tf_speech/test/audio/clip_0002a4a1f.wav',\n",
       "       'C:/data/tf_speech/test/audio/clip_0002d9b83.wav',\n",
       "       'C:/data/tf_speech/test/audio/clip_000373a5b.wav',\n",
       "       'C:/data/tf_speech/test/audio/clip_0003e6aee.wav',\n",
       "       'C:/data/tf_speech/test/audio/clip_00049951d.wav'], dtype='<U47')"
      ]
     },
     "execution_count": 60,
     "metadata": {},
     "output_type": "execute_result"
    }
   ],
   "source": [
    "pl_fnames[:10]"
   ]
  },
  {
   "cell_type": "code",
   "execution_count": 74,
   "metadata": {},
   "outputs": [
    {
     "name": "stdout",
     "output_type": "stream",
     "text": [
      "86682 28894\n",
      "86682 28894\n",
      "86682 28894\n",
      "86682 28894\n"
     ]
    }
   ],
   "source": [
    "from sklearn.model_selection import KFold\n",
    "import pickle\n",
    "import gzip\n",
    "\n",
    "MY_KFOLD_NOISE_FILENAME = 'kfold4_max_new_noise.pklz'\n",
    "folds = pickle.load(gzip.open(TRAIN_MODIFIED_DIR + MY_KFOLD_NOISE_FILENAME, 'rb'))\n",
    "\n",
    "kf = KFold(n_splits=4, shuffle=True, random_state=17)\n",
    "\n",
    "pl_folds = []\n",
    "for train_index, test_index in kf.split(pl_fnames):\n",
    "    pl_folds.append([pl_fnames[train_index], pl_fnames[test_index]])\n",
    "\n",
    "for f in pl_folds:\n",
    "    print(len(f[0]), len(f[1]))\n",
    "    \n",
    "with gzip.open(TRAIN_MODIFIED_DIR + 'kfold4_max_pseudo_label.pklz', 'wb') as f:\n",
    "    pickle.dump(pl_folds, f)"
   ]
  },
  {
   "cell_type": "code",
   "execution_count": null,
   "metadata": {},
   "outputs": [],
   "source": []
  },
  {
   "cell_type": "code",
   "execution_count": 64,
   "metadata": {},
   "outputs": [
    {
     "data": {
      "text/plain": [
       "array(['C:/data/tf_speech/test/audio/clip_000044442.wav',\n",
       "       'C:/data/tf_speech/test/audio/clip_0000adecb.wav',\n",
       "       'C:/data/tf_speech/test/audio/clip_0000d4322.wav',\n",
       "       'C:/data/tf_speech/test/audio/clip_0001d1559.wav',\n",
       "       'C:/data/tf_speech/test/audio/clip_0002256ed.wav',\n",
       "       'C:/data/tf_speech/test/audio/clip_0002a4a1f.wav',\n",
       "       'C:/data/tf_speech/test/audio/clip_0002d9b83.wav',\n",
       "       'C:/data/tf_speech/test/audio/clip_000373a5b.wav',\n",
       "       'C:/data/tf_speech/test/audio/clip_0003e6aee.wav',\n",
       "       'C:/data/tf_speech/test/audio/clip_00049951d.wav'], dtype='<U47')"
      ]
     },
     "execution_count": 64,
     "metadata": {},
     "output_type": "execute_result"
    }
   ],
   "source": [
    "pl_fnames[:10]"
   ]
  },
  {
   "cell_type": "code",
   "execution_count": 72,
   "metadata": {},
   "outputs": [
    {
     "data": {
      "text/plain": [
       "['C:', 'data', 'tf_speech', 'test', 'audio', 'clip_000044442.wav']"
      ]
     },
     "execution_count": 72,
     "metadata": {},
     "output_type": "execute_result"
    }
   ],
   "source": [
    "splits = pl_fnames[0].split('/')\n",
    "splits"
   ]
  },
  {
   "cell_type": "code",
   "execution_count": 69,
   "metadata": {},
   "outputs": [
    {
     "data": {
      "text/plain": [
       "unknown    69004\n",
       "yes         4948\n",
       "stop        4763\n",
       "right       4457\n",
       "off         4454\n",
       "left        4435\n",
       "on          4338\n",
       "no          4069\n",
       "down        4043\n",
       "silence     3827\n",
       "go          3693\n",
       "up          3545\n",
       "Name: label, dtype: int64"
      ]
     },
     "execution_count": 69,
     "metadata": {},
     "output_type": "execute_result"
    }
   ],
   "source": [
    "pseudo_label.label.value_counts()"
   ]
  },
  {
   "cell_type": "code",
   "execution_count": 70,
   "metadata": {},
   "outputs": [
    {
     "data": {
      "text/plain": [
       "(array(['down', 'go', 'left', 'no', 'off', 'on', 'right', 'silence',\n",
       "        'stop', 'unknown', 'up', 'yes'], dtype='<U7'),\n",
       " array([ 5527,  5452,  6088,  6065,  5936,  5904,  5413,  8801,  5544,\n",
       "        92873,  5384,  5551], dtype=int64))"
      ]
     },
     "execution_count": 70,
     "metadata": {},
     "output_type": "execute_result"
    }
   ],
   "source": [
    "np.unique(labels, return_counts=True)"
   ]
  },
  {
   "cell_type": "code",
   "execution_count": 104,
   "metadata": {},
   "outputs": [
    {
     "name": "stdout",
     "output_type": "stream",
     "text": [
      "115576 42962\n"
     ]
    }
   ],
   "source": [
    "files_no_pl = pd.read_csv('../input/no_label.csv').fname\n",
    "labels = np.zeros_like(files_no_pl)\n",
    "df_no_pl = pd.DataFrame({'label': labels}, index=files_no_pl)\n",
    "\n",
    "df_pl = pd.read_csv('../input/pseudo_label.csv', index_col='fname')\n",
    "files_pl = df_pl.index\n",
    "\n",
    "files_all = glob.glob(os.path.join(TEST_DIR, '*.wav'))\n",
    "files_all = [f.split('\\\\')[-1] for f in files_all]\n",
    "\n",
    "c_pl = 0\n",
    "c_npl = 0\n",
    "for fname in files_all:\n",
    "    if fname in files_pl:\n",
    "        label = df_pl.loc[fname].label\n",
    "        c_pl += 1\n",
    "    else:\n",
    "        label = df_no_pl.loc[fname].label\n",
    "        c_npl += 1\n",
    "        \n",
    "print(c_pl, c_npl)"
   ]
  },
  {
   "cell_type": "code",
   "execution_count": 106,
   "metadata": {},
   "outputs": [
    {
     "data": {
      "text/plain": [
       "['clip_000044442.wav',\n",
       " 'clip_0000adecb.wav',\n",
       " 'clip_0000d4322.wav',\n",
       " 'clip_0000fb6fe.wav',\n",
       " 'clip_0001d1559.wav',\n",
       " 'clip_0002256ed.wav',\n",
       " 'clip_0002a4a1f.wav',\n",
       " 'clip_0002d9b83.wav',\n",
       " 'clip_000373a5b.wav',\n",
       " 'clip_0003c7122.wav']"
      ]
     },
     "execution_count": 106,
     "metadata": {},
     "output_type": "execute_result"
    }
   ],
   "source": [
    "files_all = glob.glob(os.path.join(TEST_DIR, '*.wav'))\n",
    "files_all = [f.split('\\\\')[-1] for f in files_all]\n",
    "files_all[:10]"
   ]
  },
  {
   "cell_type": "code",
   "execution_count": 108,
   "metadata": {},
   "outputs": [],
   "source": [
    "pl_folds = pickle.load(gzip.open(TRAIN_MODIFIED_DIR + 'kfold4_max_pseudo_label.pklz', 'rb'))"
   ]
  },
  {
   "cell_type": "code",
   "execution_count": 115,
   "metadata": {},
   "outputs": [],
   "source": [
    "for fold in pl_folds:\n",
    "    for f in fold[0]:\n",
    "        if f in fold[1]:\n",
    "            print(f)\n",
    "        assert f not in fold[1]\n",
    "    for f in fold[1]:\n",
    "        if f in fold[0]:\n",
    "            print(f)\n",
    "        assert f not in fold[0]"
   ]
  },
  {
   "cell_type": "code",
   "execution_count": null,
   "metadata": {},
   "outputs": [],
   "source": []
  }
 ],
 "metadata": {
  "kernelspec": {
   "display_name": "Python [conda env:tf]",
   "language": "python",
   "name": "conda-env-tf-py"
  },
  "language_info": {
   "codemirror_mode": {
    "name": "ipython",
    "version": 3
   },
   "file_extension": ".py",
   "mimetype": "text/x-python",
   "name": "python",
   "nbconvert_exporter": "python",
   "pygments_lexer": "ipython3",
   "version": "3.5.3"
  }
 },
 "nbformat": 4,
 "nbformat_minor": 2
}
